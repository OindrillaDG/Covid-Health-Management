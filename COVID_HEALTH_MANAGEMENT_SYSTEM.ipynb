{
  "nbformat": 4,
  "nbformat_minor": 0,
  "metadata": {
    "colab": {
      "name": "COVID HEALTH MANAGEMENT SYSTEM.ipynb",
      "provenance": [],
      "collapsed_sections": [],
      "authorship_tag": "ABX9TyONrNeHuPL1IZorcjLf9jye",
      "include_colab_link": true
    },
    "kernelspec": {
      "name": "python3",
      "display_name": "Python 3"
    },
    "language_info": {
      "name": "python"
    }
  },
  "cells": [
    {
      "cell_type": "markdown",
      "metadata": {
        "id": "view-in-github",
        "colab_type": "text"
      },
      "source": [
        "<a href=\"https://colab.research.google.com/github/OindrillaDG/Covid-Health-Management/blob/main/COVID_HEALTH_MANAGEMENT_SYSTEM.ipynb\" target=\"_parent\"><img src=\"https://colab.research.google.com/assets/colab-badge.svg\" alt=\"Open In Colab\"/></a>"
      ]
    },
    {
      "cell_type": "code",
      "metadata": {
        "id": "g5MMTKdJudKy"
      },
      "source": [
        "import datetime"
      ],
      "execution_count": 17,
      "outputs": []
    },
    {
      "cell_type": "code",
      "metadata": {
        "id": "r8EYjJbIyI7_"
      },
      "source": [
        "#taking data input\n",
        "def gettime():\n",
        "  return datetime.datetime.now()\n",
        "def take(k):\n",
        "  a = int(input(\"Press\\n 1:Wake-up time\\n 2:Breakfast\\n 3:Morning Yoga\\n 4:SPO2 Level\\n 5:Lunch\\n 6:Snacks\\n 7:Evening Yoga\\n 8:Dinner\\n 9:SPO2 Level\\n 10:Sleep\\n\"))\n",
        "  if a == 1:\n",
        "    value = input(\"Enter the time you woke up - \")\n",
        "    with open(\"wake.txt\", \"a\") as op:\n",
        "      op.write(str(gettime()) + \"-\" + \"Patient wake-up time:\\t\" + value + \"\\n\" )\n",
        "      print(\"Wakeup Entry done successfully\")\n",
        "  elif a == 2:\n",
        "    value = input(\"Enter the breakfast you had - \")\n",
        "    with open(\"breakfast.txt\", \"a\") as op:\n",
        "      op.write(str(gettime()) + \"-\" + \"Breakfast consisted of:\\t\" + value + \"\\n\" )\n",
        "      print(\"Breakfast Entry done successfully\")\n",
        "  elif a == 3:\n",
        "    value = input(\"Enter Morning Yoga routine - \")\n",
        "    with open(\"yoga.txt\", \"a\") as op:\n",
        "      op.write(str(gettime()) + \"-\" + \"Yoga consisted of:\\t\" + value + \"\\n\" )\n",
        "      print(\"Morning Yoga Entry done successfully\")\n",
        "  elif a == 4:\n",
        "    value = input(\"Enter SPO2 Level - \")\n",
        "    with open(\"spo2.txt\", \"a\") as op:\n",
        "      op.write(str(gettime()) + \"-\" + \"SPO2 Level:\\t\" + value + \"\\n\" )\n",
        "      print(\"SPO2 Level Entry done successfully\")\n",
        "  elif a == 5:\n",
        "    value = input(\"Enter the lunch you had - \")\n",
        "    with open(\"lunch.txt\", \"a\") as op:\n",
        "      op.write(str(gettime()) + \"-\" + \"Lunch consisted of:\\t\" + value + \"\\n\" )\n",
        "      print(\"Lunch Entry done successfully\")\n",
        "  elif a == 6:\n",
        "    value = input(\"Enter the snacks you had - \")\n",
        "    with open(\"snacks.txt\", \"a\") as op:\n",
        "      op.write(str(gettime()) + \"-\" + \"Snacks consisted of:\\t\" + value + \"\\n\" )\n",
        "      print(\"Snacks Entry done successfully\")\n",
        "  elif a == 7:\n",
        "    value = input(\"Enter Evening Yoga routine - \")\n",
        "    with open(\"yoga_eve.txt\", \"a\") as op:\n",
        "      op.write(str(gettime()) + \"-\" + \"Yoga consisted of:\\t\" + value + \"\\n\" )\n",
        "      print(\"Evening Yoga Entry done successfully\")\n",
        "  elif a == 8:\n",
        "    value = input(\"Enter the dinner you had - \")\n",
        "    with open(\"dinner.txt\", \"a\") as op:\n",
        "      op.write(str(gettime()) + \"-\" + \"Dinner consisted of:\\t\" + value + \"\\n\" )\n",
        "      print(\"Dinner Entry done successfully\")\n",
        "  elif a == 9:\n",
        "    value = input(\"Enter SPO2 Level - \")\n",
        "    with open(\"spo2_night.txt\", \"a\") as op:\n",
        "      op.write(str(gettime()) + \"-\" + \"SPO2 Leve:\\t\" + value + \"\\n\" )\n",
        "      print(\"SPO2 Level Entry done successfully\")\n",
        "  elif a == 10:\n",
        "    value = input(\"Enter the time you went to sleep - \")\n",
        "    with open(\"sleep.txt\", \"a\") as op:\n",
        "      op.write(str(gettime()) + \"-\" + \"Pateint sleep time:\\t\" + value + \"\\n\" )\n",
        "      print(\"Sleep time Entry done successfully\")\n"
      ],
      "execution_count": 206,
      "outputs": []
    },
    {
      "cell_type": "code",
      "metadata": {
        "id": "mF8ZutiJ3Q0e"
      },
      "source": [
        "#retrieving data\n",
        "def retrieve(k):\n",
        "  b = int(input(\"Press\\n 1:Wake-up time\\n 2:Breakfast\\n 3:Morning Yoga\\n 4:SPO2 Level\\n 5:Lunch\\n 6:Snacks\\n 7:Evening Yoga\\n 8:Dinner\\n 9:SPO2 Level\\n 10:Sleep\\n\"))\n",
        "  if b == 1:\n",
        "    with open(\"wake.txt\", \"r\") as op:\n",
        "      for i in op:\n",
        "        print(i)\n",
        "  elif b == 2:\n",
        "    with open(\"breakfast.txt\", \"r\") as op:\n",
        "      for i in op:\n",
        "        print(i)\n",
        "  elif b == 3:\n",
        "    with open(\"yoga.txt\", \"r\") as op:\n",
        "      for i in op:\n",
        "        print(i)\n",
        "  elif b == 4:\n",
        "    with open(\"spo2.txt\", \"r\") as op:\n",
        "      for i in op:\n",
        "        print(i)\n",
        "  elif b == 5:\n",
        "    with open(\"lunch.txt\", \"r\") as op:\n",
        "      for i in op:\n",
        "        print(i)\n",
        "  elif b == 6:\n",
        "    with open(\"snacks.txt\", \"r\") as op:\n",
        "      for i in op:\n",
        "        print(i)\n",
        "  elif b == 7:\n",
        "    with open(\"yoga_eve.txt\", \"r\") as op:\n",
        "      for i in op:\n",
        "        print(i)\n",
        "  elif b == 8:\n",
        "    with open(\"dinner.txt\", \"r\") as op:\n",
        "      for i in op:\n",
        "        print(i)\n",
        "  elif b == 9:\n",
        "    with open(\"spo2_night.txt\", \"r\") as op:\n",
        "      for i in op:\n",
        "        print(i)\n",
        "  elif b == 10:\n",
        "    with open(\"sleep.txt\", \"r\") as op:\n",
        "      for i in op:\n",
        "        print(i)"
      ],
      "execution_count": 208,
      "outputs": []
    },
    {
      "cell_type": "code",
      "metadata": {
        "colab": {
          "base_uri": "https://localhost:8080/"
        },
        "id": "VUl1AGfczlNU",
        "outputId": "2de06549-834b-4b12-d3b4-a8fd60fccbf8"
      },
      "source": [
        "#mainpage appearance\n",
        "print(\"\\t\\t\\t\\t\\t COVID HEALTH MANAGEMENT SYSTEM\")\n",
        "k = int(input(\"Press 1 to ENTER data and 2 to RETRIEVE data\\t\"))\n",
        "if k == 1:\n",
        "  take(k)\n",
        "elif k == 2:\n",
        "  retrieve(k)\n",
        "else:\n",
        "  print(\"Invalid Entry. Press 1 or 2!\")"
      ],
      "execution_count": 217,
      "outputs": [
        {
          "output_type": "stream",
          "name": "stdout",
          "text": [
            "\t\t\t\t\t COVID HEALTH MANAGEMENT SYSTEM\n",
            "Press 1 to ENTER data and 2 to RETRIEVE data\t2\n",
            "Press\n",
            " 1:Wake-up time\n",
            " 2:Breakfast\n",
            " 3:Morning Yoga\n",
            " 4:SPO2 Level\n",
            " 5:Lunch\n",
            " 6:Snacks\n",
            " 7:Evening Yoga\n",
            " 8:Dinner\n",
            " 9:SPO2 Level\n",
            " 10:Sleep\n",
            "5\n",
            "2021-10-30 16:43:06.143933-Lunch consisted of :\tdal, rice, boiled egg\n",
            "\n",
            "2021-10-30 16:44:29.201740-Lunch consisted of :\tdal, roti, curry, boiled egg\n",
            "\n",
            "2021-10-30 16:44:48.889585-Lunch consisted of :\tdal, rice, papad, yogurt\n",
            "\n",
            "2021-10-30 16:45:01.870708-Lunch consisted of :\tporridge, salad\n",
            "\n",
            "2021-10-30 16:45:16.996345-Lunch consisted of :\tdal, rice, curry, yogurt\n",
            "\n",
            "2021-10-30 16:45:30.703774-Lunch consisted of :\tcurry, rice, salad\n",
            "\n",
            "2021-10-30 16:45:56.694310-Lunch consisted of :\tdal, roti, curry, papad\n",
            "\n",
            "2021-10-30 16:47:13.529666-Lunch consisted of :\troti, curry, salad, yogurt\n",
            "\n",
            "2021-10-30 16:47:23.899812-Lunch consisted of :\tbiryani\n",
            "\n",
            "2021-10-30 16:48:24.124228-Lunch consisted of :\tporridge, salad, rice, dal\n",
            "\n",
            "2021-10-30 16:48:41.109802-Lunch consisted of :\troti, curry, yogurt\n",
            "\n",
            "2021-10-30 16:48:54.072912-Lunch consisted of :\tbiryani, yogurt\n",
            "\n",
            "2021-10-30 16:49:22.049319-Lunch consisted of :\trice, chicken curry, yougrt\n",
            "\n",
            "2021-10-30 16:49:47.762062-Lunch consisted of :\tdal, rice, chicken curry\n",
            "\n",
            "2021-10-30 16:50:05.763904-Lunch consisted of :\tbiryani, chicken curry, yogurt\n",
            "\n"
          ]
        }
      ]
    }
  ]
}